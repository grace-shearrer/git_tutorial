{
 "cells": [
  {
   "cell_type": "markdown",
   "metadata": {
    "slideshow": {
     "slide_type": "slide"
    }
   },
   "source": [
    "# Git 101\n",
    "## *Or why not just save?*\n",
    "### GE Shearrer, PhD\n",
    "### 01/28/2020"
   ]
  },
  {
   "cell_type": "markdown",
   "metadata": {
    "slideshow": {
     "slide_type": "slide"
    }
   },
   "source": [
    "# Overview\n",
    "* Goal of the class\n",
    "* Why am I learning this?\n",
    "* Git structure"
   ]
  },
  {
   "cell_type": "markdown",
   "metadata": {
    "slideshow": {
     "slide_type": "slide"
    }
   },
   "source": [
    "# Goals of the class"
   ]
  },
  {
   "cell_type": "markdown",
   "metadata": {},
   "source": [
    "* Be comfortable setting up, pushing to, and publishing a repository\n",
    "* Understand the importance of version control\n",
    "* Have a working knowledge of cloning, forking, and merging a repositiory \n",
    "* Introduction to datalad and additional git based functionality "
   ]
  },
  {
   "cell_type": "markdown",
   "metadata": {
    "slideshow": {
     "slide_type": "slide"
    }
   },
   "source": [
    "# Why?"
   ]
  },
  {
   "cell_type": "markdown",
   "metadata": {
    "slideshow": {
     "slide_type": "slide"
    }
   },
   "source": [
    "## Version control\n",
    "We all have a folder that looks like this:\n",
    "![bad](https://github.com/grace-shearrer/git_tutorial/blob/working/images/bad_struct.png?raw=true)"
   ]
  },
  {
   "cell_type": "markdown",
   "metadata": {
    "slideshow": {
     "slide_type": "notes"
    }
   },
   "source": [
    "This is confusing and takes up a lot of space. It would be great to just have a log of the changes I made and I could revert to the *version* I want at will."
   ]
  },
  {
   "cell_type": "markdown",
   "metadata": {
    "slideshow": {
     "slide_type": "slide"
    }
   },
   "source": [
    "### Ah but wait! Google Drive already does this! \n",
    "![google](https://github.com/grace-shearrer/git_tutorial/blob/working/images/drive_ver.png?raw=true)"
   ]
  },
  {
   "cell_type": "markdown",
   "metadata": {
    "slideshow": {
     "slide_type": "notes"
    }
   },
   "source": [
    "True, Google Drive does come with some native version control.\n",
    "But, it is file by and slow.... It gets worse if you are changing a lot of files at once (say when creating an onset file). \n",
    "Even worse... what if you are collaborating? "
   ]
  },
  {
   "cell_type": "markdown",
   "metadata": {
    "slideshow": {
     "slide_type": "slide"
    }
   },
   "source": [
    "## Enter Git\n",
    "![git](data:image/svg+xml;base64,PD94bWwgdmVyc2lvbj0iMS4wIiBlbmNvZGluZz0idXRmLTgiPz4KPHN2ZyB4bWxucz0iaHR0cDov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)"
   ]
  },
  {
   "cell_type": "markdown",
   "metadata": {
    "slideshow": {
     "slide_type": "slide"
    }
   },
   "source": [
    "# Git what?\n",
    "git =  unpleasant person in British English slang) \n",
    "\n",
    "The name \"git\" was given by Linus Torvalds when he wrote the very first version. He described the tool as \"the stupid content tracker\" and the name as (depending on your way):\n",
    "\n",
    "* random three-letter combination that is pronounceable, and not actually used by any common UNIX command. The fact that it is a mispronunciation of \"get\" may or may not be relevant.\n",
    "* stupid. contemptible and despicable. simple. Take your pick from the dictionary of slang.\n",
    "* \"global information tracker\": you're in a good mood, and it actually works for you. Angels sing, and a light suddenly fills the room.\n",
    "* \"goddamn idiotic truckload of sh*t\": when it breaks\n",
    "\n",
    "source=https://en.wikipedia.org/wiki/Git"
   ]
  },
  {
   "cell_type": "markdown",
   "metadata": {
    "slideshow": {
     "slide_type": "subslide"
    }
   },
   "source": [
    "Git is a distributed version control system for any file type.\n",
    "The goals of git are:\n",
    "1. Speed\n",
    "2. Data integrity \n",
    "3. Support\n",
    "\n",
    "For distributed and non-linear workflows.\n",
    "*AKA: Allowing multiple people to work on the same file without overwriting each other.*"
   ]
  },
  {
   "cell_type": "markdown",
   "metadata": {
    "slideshow": {
     "slide_type": "slide"
    }
   },
   "source": [
    "## GitHub\n",
    "![github](https://github.com/grace-shearrer/git_tutorial/blob/working/images/GitHub-Mark-120px-plus.png?raw=true)"
   ]
  },
  {
   "cell_type": "markdown",
   "metadata": {
    "slideshow": {
     "slide_type": "subslide"
    }
   },
   "source": [
    "Github builds on the git framework and provides a web interface. Increasingly there are a variety of other functionalities:\n",
    "* bug tracking\n",
    "* feature requests\n",
    "* task management \n",
    "* wikis\n",
    "* websites\n",
    "* document rendering \n",
    "* Atom (source code editor)"
   ]
  },
  {
   "cell_type": "markdown",
   "metadata": {
    "slideshow": {
     "slide_type": "slide"
    }
   },
   "source": [
    "### This all seems to be more than I need ... \n",
    "However there is more to git and GitHub than just a really fancy way to save.   \n",
    "**Exposure** You worked really hard to create something. Someone else might appreciate using it too!   \n",
    "**Be a package fanperson** So you use a package but you want to make it even better or more specific to your project.   \n",
    "**Collaboration** Science is a team sport. GitHub allows the team to work on the same files simultaneously and then allows for the versions to be 'intelligently' combined.  "
   ]
  },
  {
   "cell_type": "markdown",
   "metadata": {
    "slideshow": {
     "slide_type": "slide"
    }
   },
   "source": [
    "# Let's Git Started\n",
    "With a lot of git puns  \n",
    "https://github.com/"
   ]
  },
  {
   "cell_type": "markdown",
   "metadata": {
    "slideshow": {
     "slide_type": "slide"
    }
   },
   "source": [
    "## Tips for making a good start\n",
    "1. Don't use a university email address to setup the account\n",
    " - Some universities end emails post grad\n",
    " - You can put your university email on your profile instead \n",
    "2. Avoid capital letters in the usernames\n",
    "3. Avoid spaces (use - or _ ) \n",
    "4. Use your name as much as possible\n",
    "5. Do you, but I would hesitate anything too edgy ;)"
   ]
  },
  {
   "cell_type": "markdown",
   "metadata": {
    "slideshow": {
     "slide_type": "slide"
    }
   },
   "source": [
    "## Install Git\n",
    "1. Open up a terminal \n",
    "2. Type: which git"
   ]
  },
  {
   "cell_type": "code",
   "execution_count": 1,
   "metadata": {
    "slideshow": {
     "slide_type": "fragment"
    }
   },
   "outputs": [
    {
     "name": "stdout",
     "output_type": "stream",
     "text": [
      "/usr/bin/git\r\n"
     ]
    }
   ],
   "source": [
    "! which git\n",
    "\n",
    "#Note the ! this is a jupyter notebook magic character that allows me to run ~most~ unix commands"
   ]
  },
  {
   "cell_type": "markdown",
   "metadata": {
    "slideshow": {
     "slide_type": "fragment"
    }
   },
   "source": [
    "## Want to check the version? "
   ]
  },
  {
   "cell_type": "code",
   "execution_count": 2,
   "metadata": {
    "slideshow": {
     "slide_type": "fragment"
    }
   },
   "outputs": [
    {
     "name": "stdout",
     "output_type": "stream",
     "text": [
      "git version 2.20.1 (Apple Git-117)\r\n"
     ]
    }
   ],
   "source": [
    "! git --version"
   ]
  },
  {
   "cell_type": "markdown",
   "metadata": {
    "slideshow": {
     "slide_type": "subslide"
    }
   },
   "source": [
    "## Ahhhh! I don't have git!!!"
   ]
  },
  {
   "cell_type": "markdown",
   "metadata": {
    "slideshow": {
     "slide_type": "fragment"
    }
   },
   "source": [
    "Go to this website (also an excellent reference):\n",
    "    https://happygitwithr.com/install-git.html  \n",
    "Follow instructions for your flavor of computer"
   ]
  },
  {
   "cell_type": "markdown",
   "metadata": {
    "slideshow": {
     "slide_type": "slide"
    }
   },
   "source": [
    "# Brief set up "
   ]
  },
  {
   "cell_type": "markdown",
   "metadata": {
    "slideshow": {
     "slide_type": "fragment"
    }
   },
   "source": [
    "## On your desktop do the following:\n",
    "1. Make a folder called git_jiggy\n",
    "2. Write a text file that says \"Na na na na na na na nana\"\n",
    "3. Save the file as smith.txt\n",
    "![wsmith](https://github.com/grace-shearrer/git_tutorial/blob/working/images/CalculatingGoodBinturong-size_restricted.gif?raw=true)\n",
    "gif from: https://gfycat.com/calculatinggoodbinturong"
   ]
  },
  {
   "cell_type": "code",
   "execution_count": 1,
   "metadata": {
    "slideshow": {
     "slide_type": "fragment"
    }
   },
   "outputs": [],
   "source": [
    "! mkdir ~/Desktop/git_jiggy"
   ]
  },
  {
   "cell_type": "markdown",
   "metadata": {
    "slideshow": {
     "slide_type": "subslide"
    }
   },
   "source": [
    "Using your terminal:\n",
    "1. Navigate to the git_jiggy folder\n",
    "2. Check the folder contents"
   ]
  },
  {
   "cell_type": "code",
   "execution_count": 2,
   "metadata": {
    "slideshow": {
     "slide_type": "fragment"
    }
   },
   "outputs": [],
   "source": [
    "#1 \n",
    "! cd ~/Desktop/git_jiggy"
   ]
  },
  {
   "cell_type": "code",
   "execution_count": 4,
   "metadata": {
    "slideshow": {
     "slide_type": "fragment"
    }
   },
   "outputs": [],
   "source": [
    "# 2\n",
    "! ls ~/Desktop/git_jiggy"
   ]
  },
  {
   "cell_type": "code",
   "execution_count": 5,
   "metadata": {
    "slideshow": {
     "slide_type": "fragment"
    }
   },
   "outputs": [],
   "source": [
    "! touch /Users/gracer/Desktop/git_jiggy/smith.txt\n"
   ]
  },
  {
   "cell_type": "code",
   "execution_count": 6,
   "metadata": {
    "slideshow": {
     "slide_type": "fragment"
    }
   },
   "outputs": [
    {
     "name": "stdout",
     "output_type": "stream",
     "text": [
      "smith.txt\r\n"
     ]
    }
   ],
   "source": [
    "! ls ~/Desktop/git_jiggy"
   ]
  },
  {
   "cell_type": "markdown",
   "metadata": {
    "slideshow": {
     "slide_type": "slide"
    }
   },
   "source": [
    "### Git config\n",
    "Next, we are going to set up our git envirnoment.   \n",
    "In your terminal run the following commands:"
   ]
  },
  {
   "cell_type": "code",
   "execution_count": 18,
   "metadata": {
    "slideshow": {
     "slide_type": "fragment"
    }
   },
   "outputs": [],
   "source": [
    "# Enter your username instead of Jane Doe\n",
    "# ! git config --global user.name 'Jane Doe'"
   ]
  },
  {
   "cell_type": "code",
   "execution_count": 19,
   "metadata": {
    "slideshow": {
     "slide_type": "fragment"
    }
   },
   "outputs": [],
   "source": [
    "# Enter the same email you used to make your github account\n",
    "# ! git config --global user.email 'jane@example.com'"
   ]
  },
  {
   "cell_type": "code",
   "execution_count": 17,
   "metadata": {
    "slideshow": {
     "slide_type": "fragment"
    }
   },
   "outputs": [],
   "source": [
    "# Check that everything worked\n",
    "# ! git config --global --list"
   ]
  },
  {
   "cell_type": "markdown",
   "metadata": {
    "slideshow": {
     "slide_type": "subslide"
    }
   },
   "source": [
    "## What was all that?\n",
    "We just altered our gitconfig file. Specifically we altered the 'global' gitconfig file. On my mac this is located at:"
   ]
  },
  {
   "cell_type": "code",
   "execution_count": 22,
   "metadata": {
    "slideshow": {
     "slide_type": "fragment"
    }
   },
   "outputs": [
    {
     "name": "stdout",
     "output_type": "stream",
     "text": [
      "[user]\r\n",
      "\tname = Grace-Shearrer\r\n",
      "\temail = grace.shearrer@gmail.com\r\n"
     ]
    }
   ],
   "source": [
    "! cat /Users/gracer/.gitconfig"
   ]
  },
  {
   "cell_type": "markdown",
   "metadata": {
    "slideshow": {
     "slide_type": "subslide"
    }
   },
   "source": [
    "## The config file\n",
    "There are 3 levels of config files:"
   ]
  },
  {
   "cell_type": "markdown",
   "metadata": {
    "slideshow": {
     "slide_type": "fragment"
    }
   },
   "source": [
    "1. Local\n",
    " - This is the base level\n",
    " - Located in the directory/repository "
   ]
  },
  {
   "cell_type": "markdown",
   "metadata": {
    "slideshow": {
     "slide_type": "fragment"
    }
   },
   "source": [
    "2. Global\n",
    " - This is at the user level\n",
    " - Thus why it is in our user home directory "
   ]
  },
  {
   "cell_type": "markdown",
   "metadata": {
    "slideshow": {
     "slide_type": "fragment"
    }
   },
   "source": [
    "3. System\n",
    " - This is the top level \n",
    " - It is located in our system root path\n",
    " - Depending on permissions we may or may not be able to write to this file"
   ]
  },
  {
   "cell_type": "markdown",
   "metadata": {
    "slideshow": {
     "slide_type": "subslide"
    }
   },
   "source": [
    "#### Extra special\n",
    "You can further customize your git experience by changing the default editor (vi) or making our terminal output a nice color.   \n",
    "More info here: https://www.atlassian.com/git/tutorials/setting-up-a-repository/git-config"
   ]
  },
  {
   "cell_type": "code",
   "execution_count": 20,
   "metadata": {
    "slideshow": {
     "slide_type": "fragment"
    }
   },
   "outputs": [],
   "source": [
    "# ! git config --global core.editor \"emacs\""
   ]
  },
  {
   "cell_type": "markdown",
   "metadata": {
    "slideshow": {
     "slide_type": "slide"
    }
   },
   "source": [
    "# Basic GitHub overview"
   ]
  },
  {
   "cell_type": "markdown",
   "metadata": {
    "slideshow": {
     "slide_type": "fragment"
    }
   },
   "source": [
    "## Locals Only\n",
    "![local](https://github.com/grace-shearrer/git_tutorial/blob/working/images/git_local.png?raw=true)\n",
    "image from: https://juristr.com/blog/2013/04/git-explained/"
   ]
  },
  {
   "cell_type": "markdown",
   "metadata": {
    "slideshow": {
     "slide_type": "subslide"
    }
   },
   "source": [
    "### Working directory\n",
    "This is on your **LOCAL COMPUTER**  \n",
    "You can have a variety of files of every flavor and size"
   ]
  },
  {
   "cell_type": "markdown",
   "metadata": {
    "slideshow": {
     "slide_type": "subslide"
    }
   },
   "source": [
    "### Run the following in your git_jiggy folder"
   ]
  },
  {
   "cell_type": "code",
   "execution_count": 10,
   "metadata": {
    "slideshow": {
     "slide_type": "fragment"
    }
   },
   "outputs": [
    {
     "name": "stdout",
     "output_type": "stream",
     "text": [
      "README.md         git_lecture.ipynb \u001b[34mimages\u001b[m\u001b[m\r\n"
     ]
    }
   ],
   "source": [
    "! ls\n",
    "# Looks normal enough"
   ]
  },
  {
   "cell_type": "markdown",
   "metadata": {
    "slideshow": {
     "slide_type": "subslide"
    }
   },
   "source": [
    "### Now run the following in the git_jiggy folder"
   ]
  },
  {
   "cell_type": "code",
   "execution_count": 23,
   "metadata": {
    "slideshow": {
     "slide_type": "fragment"
    }
   },
   "outputs": [],
   "source": [
    "# ! git init "
   ]
  },
  {
   "cell_type": "code",
   "execution_count": 24,
   "metadata": {
    "slideshow": {
     "slide_type": "fragment"
    }
   },
   "outputs": [
    {
     "name": "stdout",
     "output_type": "stream",
     "text": [
      "\u001b[34m.\u001b[m\u001b[m                  \u001b[34m.git\u001b[m\u001b[m               README.md\r\n",
      "\u001b[34m..\u001b[m\u001b[m                 .gitignore         git_lecture.ipynb\r\n",
      ".DS_Store          \u001b[34m.ipynb_checkpoints\u001b[m\u001b[m \u001b[34mimages\u001b[m\u001b[m\r\n"
     ]
    }
   ],
   "source": [
    "! ls -a\n",
    "# WHOA, who put these .git files here???\n",
    "## the -a will show hidden files "
   ]
  },
  {
   "cell_type": "markdown",
   "metadata": {
    "slideshow": {
     "slide_type": "subslide"
    }
   },
   "source": [
    "## The .git folder\n",
    "This is pretty much the heart and soul of the git framework. Without the .git folder you can't do any version control. The .git folder contains the following:"
   ]
  },
  {
   "cell_type": "markdown",
   "metadata": {
    "slideshow": {
     "slide_type": "fragment"
    }
   },
   "source": [
    "### 4 sub-directories:\n",
    "\n",
    "* hooks/ : example scripts\n",
    "* info/ : exclude file for ignored patterns\n",
    "* objects/ : all \"objects\"\n",
    "* refs/ : pointers to commit objects\n"
   ]
  },
  {
   "cell_type": "markdown",
   "metadata": {
    "slideshow": {
     "slide_type": "subslide"
    }
   },
   "source": [
    "### 4 files:\n",
    "\n",
    "* HEAD : current branch\n",
    "* config : configuration options\n",
    "* description\n",
    "* index : staging area\n",
    " - The index is a file containing a sorted list of paths of each object\n",
    " - The index is one of the most important data structures in git.\n",
    " - It represents a virtual working tree state by recording list of paths and their object names and serves as a staging area to write out the next tree object to be committed. ref(https://stackoverflow.com/questions/4084921/what-does-the-git-index-contain-exactly)\n"
   ]
  },
  {
   "cell_type": "markdown",
   "metadata": {
    "slideshow": {
     "slide_type": "fragment"
    }
   },
   "source": [
    "### Here \"object\" includes:\n",
    "\n",
    "* blobs(files)\n",
    "* trees(directories)\n",
    "* commits(reference to a tree, parent commit, etc)"
   ]
  },
  {
   "cell_type": "markdown",
   "metadata": {
    "slideshow": {
     "slide_type": "subslide"
    }
   },
   "source": [
    "## How important is this folder?\n",
    "The .git contains all the metadata and objects for the project. If you mess up extravagently (which is exceedingly easy to do) you may have to edit one or more of the files within the .git folder. That is for later. For now we are doing great and will keep moving forward. "
   ]
  },
  {
   "cell_type": "markdown",
   "metadata": {
    "slideshow": {
     "slide_type": "slide"
    }
   },
   "source": [
    "## What should and should not be commited?\n",
    "This seems like a simple enough question. However, if one is not careful data or code with sensitive information can accidentally be uploaded to the internet. Best practices suggest not to ever upload data to github. GitHub tries to prevent this, as it has a maximum file size that can be uploaded (100MB).  "
   ]
  },
  {
   "cell_type": "markdown",
   "metadata": {
    "slideshow": {
     "slide_type": "subslide"
    }
   },
   "source": [
    "### .gitignore\n",
    "The .gitignore is a file we can make that helps us avoid accidental uploads. There are a variety of premade templates, but in general I like to make my own. Open your favorite text editor. And then run the following:"
   ]
  },
  {
   "cell_type": "code",
   "execution_count": 27,
   "metadata": {
    "slideshow": {
     "slide_type": "fragment"
    }
   },
   "outputs": [
    {
     "name": "stdout",
     "output_type": "stream",
     "text": [
      "\u001b[34m.\u001b[m\u001b[m                  \u001b[34m.git\u001b[m\u001b[m               README.md\r\n",
      "\u001b[34m..\u001b[m\u001b[m                 .gitignore         git_lecture.ipynb\r\n",
      ".DS_Store          \u001b[34m.ipynb_checkpoints\u001b[m\u001b[m \u001b[34mimages\u001b[m\u001b[m\r\n"
     ]
    }
   ],
   "source": [
    "! ls -a"
   ]
  },
  {
   "cell_type": "markdown",
   "metadata": {
    "slideshow": {
     "slide_type": "fragment"
    }
   },
   "source": [
    "Here we can see that I have a hidden file called '.ipynb_checkpoints' this is the cache for jupyter. I also have a random '.DS_Store'. I don't want to track these files. I also want to prevent myself from uploading any data. So I am going to make a .gitignore that ignores common data files types "
   ]
  },
  {
   "cell_type": "code",
   "execution_count": null,
   "metadata": {
    "slideshow": {
     "slide_type": "fragment"
    }
   },
   "outputs": [],
   "source": [
    "#files I want to ignore\n",
    ".ipynb_checkpoints  \n",
    ".ipynb_checkpoints  \n",
    "*.txt  \n",
    "*.csv  \n",
    "*.tsv  \n",
    "*.nii*  "
   ]
  },
  {
   "cell_type": "markdown",
   "metadata": {
    "slideshow": {
     "slide_type": "slide"
    }
   },
   "source": [
    "# First Commit\n",
    "We are now ready to make our first local commit! Run the following:"
   ]
  },
  {
   "cell_type": "code",
   "execution_count": 28,
   "metadata": {
    "slideshow": {
     "slide_type": "subslide"
    }
   },
   "outputs": [
    {
     "name": "stdout",
     "output_type": "stream",
     "text": [
      "On branch working\r\n",
      "Changes not staged for commit:\r\n",
      "  (use \"git add/rm <file>...\" to update what will be committed)\r\n",
      "  (use \"git checkout -- <file>...\" to discard changes in working directory)\r\n",
      "\r\n",
      "\t\u001b[31mmodified:   git_lecture.ipynb\u001b[m\r\n",
      "\t\u001b[31mdeleted:    images/github_logo.jpg\u001b[m\r\n",
      "\r\n",
      "Untracked files:\r\n",
      "  (use \"git add <file>...\" to include in what will be committed)\r\n",
      "\r\n",
      "\t\u001b[31mimages/Screen Shot 2020-01-07 at 3.01.17 PM.png\u001b[m\r\n",
      "\r\n",
      "no changes added to commit (use \"git add\" and/or \"git commit -a\")\r\n"
     ]
    }
   ],
   "source": [
    "! git status"
   ]
  },
  {
   "cell_type": "markdown",
   "metadata": {
    "slideshow": {
     "slide_type": "fragment"
    }
   },
   "source": [
    "1. On branch master:  \n",
    "Right now (since we just started) we only have one branch, 'master'. As we go forward we will make new branches and this will become more useful.\n",
    "2. Changes not staged for commit:  \n",
    "This is a list of files that A. are being tracked, B. have changes\n",
    "3. Untracked files:  \n",
    "This is a list of files that git is not tracking\n",
    "4. no changes added to commit:  \n",
    "This is indicating we don't have any pending commits. "
   ]
  },
  {
   "cell_type": "markdown",
   "metadata": {
    "slideshow": {
     "slide_type": "subslide"
    }
   },
   "source": [
    "In terms of the .git folder, the git status command is telling us:\n",
    "1. paths that have differences between the index file and current HEAD commit\n",
    "2. path that have differences between workspaces (local, staging, directory) and the index\n",
    "3. paths not tracked by git"
   ]
  },
  {
   "cell_type": "markdown",
   "metadata": {
    "slideshow": {
     "slide_type": "slide"
    }
   },
   "source": [
    "### Workspace\n",
    "This is our local checkout containing our code or text file or whatever. We can do a lot of things from here:\n",
    "* check the status\n",
    "* check the differences between the workspace and index\n",
    "* add files to be tracked\n",
    "* checkout a new branch \n",
    "* reset our branch to a previous location \n",
    "* much more\n",
    "Really cool: https://ndpsoftware.com/git-cheatsheet.html#loc=workspace; "
   ]
  },
  {
   "cell_type": "markdown",
   "metadata": {
    "slideshow": {
     "slide_type": "subslide"
    }
   },
   "source": [
    "#### add\n",
    "The first thing to do is to add a file. \n",
    "Add is adding the file or files to the index. This allows them to be included in the next commit. Let's perform the following:"
   ]
  },
  {
   "cell_type": "code",
   "execution_count": null,
   "metadata": {
    "slideshow": {
     "slide_type": "fragment"
    }
   },
   "outputs": [],
   "source": [
    "! git add smith.txt"
   ]
  },
  {
   "cell_type": "code",
   "execution_count": 7,
   "metadata": {
    "slideshow": {
     "slide_type": "fragment"
    }
   },
   "outputs": [
    {
     "name": "stdout",
     "output_type": "stream",
     "text": [
      "On branch working\r\n",
      "Changes not staged for commit:\r\n",
      "  (use \"git add/rm <file>...\" to update what will be committed)\r\n",
      "  (use \"git checkout -- <file>...\" to discard changes in working directory)\r\n",
      "\r\n",
      "\t\u001b[31mmodified:   git_lecture.ipynb\u001b[m\r\n",
      "\t\u001b[31mdeleted:    images/github_logo.jpg\u001b[m\r\n",
      "\r\n",
      "no changes added to commit (use \"git add\" and/or \"git commit -a\")\r\n"
     ]
    }
   ],
   "source": [
    "! git status "
   ]
  },
  {
   "cell_type": "markdown",
   "metadata": {
    "slideshow": {
     "slide_type": "fragment"
    }
   },
   "source": [
    "You should now notice that the smith.txt file is green and has been added to the changes to commit."
   ]
  },
  {
   "cell_type": "markdown",
   "metadata": {
    "slideshow": {
     "slide_type": "slide"
    }
   },
   "source": [
    "### Staging Area: aka Index"
   ]
  },
  {
   "cell_type": "markdown",
   "metadata": {
    "slideshow": {
     "slide_type": "fragment"
    }
   },
   "source": [
    "In git the index is a specific file in the .git directory. It can also be thought of as a staging area, where items flagged for commit are then either:\n",
    "1. Commit\n",
    "2. Removed from from index (no commit)"
   ]
  },
  {
   "cell_type": "markdown",
   "metadata": {
    "slideshow": {
     "slide_type": "slide"
    }
   },
   "source": [
    "### 2 Legit 2 Commit\n",
    "![commit](https://media.giphy.com/media/kgKrO1A3JbWTK/giphy.gif)\n",
    "From: https://media.giphy.com/"
   ]
  },
  {
   "cell_type": "markdown",
   "metadata": {
    "slideshow": {
     "slide_type": "subslide"
    }
   },
   "source": [
    "The commit is at the heart of the github universe, and it is how we make a lot of our changes human readable. Specifically with the -m flag. This flag allows us to provide a note about the commit. Technically you can write whatever you would like... but you can (if you want) make them useful.\n",
    "![commie](https://imgs.xkcd.com/comics/git_commit_2x.png)\n",
    "From: https://xkcd.com/1296/"
   ]
  },
  {
   "cell_type": "markdown",
   "metadata": {
    "slideshow": {
     "slide_type": "subslide"
    }
   },
   "source": [
    "### A good commit message\n",
    "For simple fixes, small projects, code that you don't expect will get forked like crazy. \n",
    "Keep it simple and descriptive. Answer the following:\n",
    "1. Who\n",
    "2. What \n",
    "3. Why\n",
    "4. Where\n",
    "5. When\n"
   ]
  },
  {
   "cell_type": "markdown",
   "metadata": {
    "slideshow": {
     "slide_type": "subslide"
    }
   },
   "source": [
    "Github has the who and the when taken care of, but the what, why, and where are very important. \n",
    "* What: What did you change?\n",
    "  - example: updated basepath "
   ]
  },
  {
   "cell_type": "markdown",
   "metadata": {
    "slideshow": {
     "slide_type": "fragment"
    }
   },
   "source": [
    "* Why: But like, why?\n",
    "  - example: updated basepath to fix pathing errors when running from non-local computer.Now grabs home path using os.getcwd()"
   ]
  },
  {
   "cell_type": "markdown",
   "metadata": {
    "slideshow": {
     "slide_type": "fragment"
    }
   },
   "source": [
    "* Where: I wish everytime I fixed something it worked perfect. I rarely do this, and often forget where I changed something. \n",
    "  - example: updated basepath to fix pathing errors when running from non-local computer.Now grabs home path using os.getcwd() in the main() function."
   ]
  },
  {
   "cell_type": "markdown",
   "metadata": {
    "slideshow": {
     "slide_type": "subslide"
    }
   },
   "source": [
    " ### If you get really fancy or are working in industry\n",
    " Increasingly making intellegent commit messages is becoming critical. Several blogs have outlined commit best practices, which are a little more than the average academic needs. If you have the time though these are great to adopt. https://chris.beams.io/posts/git-commit/"
   ]
  },
  {
   "cell_type": "code",
   "execution_count": null,
   "metadata": {
    "slideshow": {
     "slide_type": "subslide"
    }
   },
   "outputs": [],
   "source": [
    "# run a commit ourselves. In your terminal type\n",
    "! git commit -m \"Added set of na to smith.txt, this is now the only line in the file.\""
   ]
  },
  {
   "cell_type": "markdown",
   "metadata": {
    "slideshow": {
     "slide_type": "fragment"
    }
   },
   "source": [
    "After running this you should get a read out of what was changed and where, along with a handle. "
   ]
  },
  {
   "cell_type": "markdown",
   "metadata": {
    "slideshow": {
     "slide_type": "subslide"
    }
   },
   "source": [
    "### Other useful commands at the staging area"
   ]
  },
  {
   "cell_type": "markdown",
   "metadata": {
    "slideshow": {
     "slide_type": "fragment"
    }
   },
   "source": [
    "* rm file \n",
    "  - REMOVES file from index AND workspace\n",
    "* reset --soft HEAD^\n",
    "  - Undo the last commit, leave changes in the index \n",
    "* diff --cached [commit]\n",
    "  - changes between what is staged for commit and the latest commit (what has been done between commits)"
   ]
  },
  {
   "cell_type": "markdown",
   "metadata": {
    "slideshow": {
     "slide_type": "slide"
    }
   },
   "source": [
    "## Local repository \n",
    "This is the .git folder. It contains all the files we need to run .git and what branches are available"
   ]
  },
  {
   "cell_type": "markdown",
   "metadata": {
    "slideshow": {
     "slide_type": "fragment"
    }
   },
   "source": [
    "### The two big commands\n",
    "1. Fetch\n",
    "2. Push"
   ]
  },
  {
   "cell_type": "markdown",
   "metadata": {
    "slideshow": {
     "slide_type": "subslide"
    }
   },
   "source": [
    "# Oh no. We forgot a README.md\n",
    "The README.md is critical. It is the first thing someone will see on your repo page. It is our first line of documentation. Let's go back to our repo on github and add one. "
   ]
  },
  {
   "cell_type": "markdown",
   "metadata": {
    "slideshow": {
     "slide_type": "fragment"
    }
   },
   "source": [
    "Like the commit messages, the README is how you interact with strange people on the internet who want to use your code. Best to make it so they don't need to email you. https://www.makeareadme.com/ "
   ]
  },
  {
   "cell_type": "markdown",
   "metadata": {
    "slideshow": {
     "slide_type": "subslide"
    }
   },
   "source": [
    "## Fetching our changes on GitHub\n",
    "We have added a README.md file. But it doesn't appear to be in our local directory? And to make things worse we can't push our local changes to github till we can figure out how to get it locally. "
   ]
  },
  {
   "cell_type": "markdown",
   "metadata": {
    "slideshow": {
     "slide_type": "subslide"
    }
   },
   "source": [
    "# Concept Check\n",
    "How can we check the repo on our local machine to see if the README.md file exists?"
   ]
  },
  {
   "cell_type": "markdown",
   "metadata": {
    "slideshow": {
     "slide_type": "subslide"
    }
   },
   "source": [
    "### That's so fetch\n",
    "To get our changes online local we need to fetch the latest repository on github. This is fairly straight forward.\n",
    "![toaster](https://media1.tenor.com/images/134db888d9abd694807e2820f94d204e/tenor.gif?itemid=7785589)\n",
    "from: https://tenor.com/view/so-fetch-gif-7785589"
   ]
  },
  {
   "cell_type": "code",
   "execution_count": 4,
   "metadata": {
    "slideshow": {
     "slide_type": "fragment"
    }
   },
   "outputs": [
    {
     "name": "stdout",
     "output_type": "stream",
     "text": [
      "From https://github.com/grace-shearrer/git_tutorial\r\n",
      " * branch            master     -> FETCH_HEAD\r\n"
     ]
    }
   ],
   "source": [
    "! git fetch origin master"
   ]
  },
  {
   "cell_type": "markdown",
   "metadata": {
    "slideshow": {
     "slide_type": "subslide"
    }
   },
   "source": [
    "# Concept Check\n",
    "Check via the command line that the README.md file now exists."
   ]
  },
  {
   "cell_type": "markdown",
   "metadata": {
    "slideshow": {
     "slide_type": "slide"
    }
   },
   "source": [
    "### Push it  real good\n",
    "Now that we have our github repo changes local. We can now push our local changes up to the github repository.\n",
    "![seasoning](https://thumbs.gfycat.com/PerfumedWickedAidi-size_restricted.gif)\n",
    "from: https://gfycat.com/perfumedwickedaidi"
   ]
  },
  {
   "cell_type": "code",
   "execution_count": null,
   "metadata": {
    "slideshow": {
     "slide_type": "fragment"
    }
   },
   "outputs": [],
   "source": [
    "! git push origin master"
   ]
  },
  {
   "cell_type": "markdown",
   "metadata": {
    "slideshow": {
     "slide_type": "slide"
    }
   },
   "source": [
    "# Ta Da! You have successfully pushed your changes to github. Go check them out"
   ]
  },
  {
   "cell_type": "markdown",
   "metadata": {
    "slideshow": {
     "slide_type": "slide"
    }
   },
   "source": [
    "# The dark forest: Git Branching"
   ]
  },
  {
   "cell_type": "markdown",
   "metadata": {
    "slideshow": {
     "slide_type": "fragment"
    }
   },
   "source": [
    "## Branching\n",
    "Branching allows us to keep some work \"safe\" from ourselves. This is especially important as you re-work old code, try to implement bug fixes, respond to reviews, have a cat walk on your keyboard while writing your dissertation."
   ]
  },
  {
   "cell_type": "markdown",
   "metadata": {
    "slideshow": {
     "slide_type": "slide"
    }
   },
   "source": [
    "## Branching basics\n",
    "![b1](https://github.com/grace-shearrer/git_tutorial/blob/working/images/branching1.png?raw=true)\n",
    "from: https://backlog.com/git-tutorial/branching-workflows/"
   ]
  },
  {
   "cell_type": "markdown",
   "metadata": {
    "slideshow": {
     "slide_type": "subslide"
    }
   },
   "source": [
    "![b2](https://github.com/grace-shearrer/git_tutorial/blob/working/images/branching2.png?raw=true)\n",
    "original: https://backlog.com/git-tutorial/branching-workflows/"
   ]
  },
  {
   "cell_type": "markdown",
   "metadata": {
    "slideshow": {
     "slide_type": "subslide"
    }
   },
   "source": [
    "## Beginning to branch out\n",
    "Right now we have 1 branch master. It is the first branch that shows up on our github repo. While you can just push every thing to master, it is easy to start getting messy. You can accidentally delete or overwrite (think about saving an old word document over your new version).   \n",
    "Let's create our first branch. "
   ]
  },
  {
   "cell_type": "code",
   "execution_count": null,
   "metadata": {
    "slideshow": {
     "slide_type": "fragment"
    }
   },
   "outputs": [],
   "source": [
    "! git checkout -b working"
   ]
  },
  {
   "cell_type": "markdown",
   "metadata": {
    "slideshow": {
     "slide_type": "fragment"
    }
   },
   "source": [
    "This translates to: checkout = create -b = new branch"
   ]
  },
  {
   "cell_type": "markdown",
   "metadata": {
    "slideshow": {
     "slide_type": "subslide"
    }
   },
   "source": [
    "# Concept check\n",
    "Check what is staged for commit or being followed. "
   ]
  },
  {
   "cell_type": "markdown",
   "metadata": {
    "slideshow": {
     "slide_type": "fragment"
    }
   },
   "source": [
    "Make a new file called smith_movies.txt. Add the following text:\n",
    "    1. Bad Boys\n",
    "    2. Independence Day\n",
    "    3. Men in Black\n",
    "    4. Enemy of the state\n",
    "    5. Wild Wild West"
   ]
  },
  {
   "cell_type": "markdown",
   "metadata": {
    "slideshow": {
     "slide_type": "subslide"
    }
   },
   "source": [
    "# Concept check\n",
    "Commit this new file."
   ]
  },
  {
   "cell_type": "markdown",
   "metadata": {
    "slideshow": {
     "slide_type": "subslide"
    }
   },
   "source": [
    "## Pushing with multiple branches\n",
    "Nearly the same just remember what branch you are on."
   ]
  },
  {
   "cell_type": "code",
   "execution_count": null,
   "metadata": {
    "slideshow": {
     "slide_type": "fragment"
    }
   },
   "outputs": [],
   "source": [
    "! git push origin working"
   ]
  },
  {
   "cell_type": "markdown",
   "metadata": {
    "slideshow": {
     "slide_type": "subslide"
    }
   },
   "source": [
    "# Concept check\n",
    "Switch branches and check what is there  \n",
    "Hint: git checkout master"
   ]
  },
  {
   "cell_type": "markdown",
   "metadata": {
    "slideshow": {
     "slide_type": "slide"
    }
   },
   "source": [
    "## Merging\n",
    "This is where 99% of problems occur. These occur when we are careless with our fetches and pulls. \n",
    "1. Merge incoming changes from remote branch to local branch\n",
    "2. Merge outgoing changes from local branch to remote branch\n",
    "3. Merge changes in one local branch to another local branch\n",
    "4. Merge changes in one remote branch to another remote branch\n",
    "\n",
    "from: https://rollout.io/blog/merge-conflict-everything-need-know/"
   ]
  },
  {
   "cell_type": "markdown",
   "metadata": {
    "slideshow": {
     "slide_type": "subslide"
    }
   },
   "source": [
    "## Where is the error\n",
    "Git tries to help us. It uses standard notation to point where the conflict is:\n",
    "\n",
    "<<<<<<< conflict in here ======="
   ]
  },
  {
   "cell_type": "markdown",
   "metadata": {
    "slideshow": {
     "slide_type": "subslide"
    }
   },
   "source": [
    "## Example\n",
    "![problem](https://github.com/grace-shearrer/git_tutorial/blob/working/images/branch_prob.png?raw=true)"
   ]
  },
  {
   "cell_type": "markdown",
   "metadata": {
    "slideshow": {
     "slide_type": "subslide"
    }
   },
   "source": [
    "# Fix ? \n",
    "Need to fix my code and chose either red or purple. \n"
   ]
  },
  {
   "cell_type": "markdown",
   "metadata": {
    "slideshow": {
     "slide_type": "slide"
    }
   },
   "source": [
    "# Prevent merge conflicts\n",
    "from: https://geshan.com.np/blog/2016/04/3-simple-rules-for-less-or-no-git-conflicts/"
   ]
  },
  {
   "cell_type": "markdown",
   "metadata": {
    "slideshow": {
     "slide_type": "fragment"
    }
   },
   "source": [
    "1. Keep changes small"
   ]
  },
  {
   "cell_type": "markdown",
   "metadata": {
    "slideshow": {
     "slide_type": "fragment"
    }
   },
   "source": [
    "2. Rebase with main branch (usually main)\n",
    "\n",
    "This is less straightforward, but very useful. \n",
    "\"When your main branch changes, rebase the branch you are working on with it. Usually master is the main branch so it will be best if you rebase with master at least once a day. This saves you from bringing in lots of changes done by other team member late.\" "
   ]
  },
  {
   "cell_type": "markdown",
   "metadata": {
    "slideshow": {
     "slide_type": "fragment"
    }
   },
   "source": [
    "3. Merge regularly and look at your code for merge errors\n"
   ]
  },
  {
   "cell_type": "markdown",
   "metadata": {
    "slideshow": {
     "slide_type": "subslide"
    }
   },
   "source": [
    "# Concept check\n",
    "Try a merge on your own. \n",
    "\n",
    "Hint: \n",
    "1. checkout master\n",
    "2. git merge branch2merge master"
   ]
  },
  {
   "cell_type": "markdown",
   "metadata": {},
   "source": [
    "# Post Merge\n",
    "1. Give 1000 angels hi-fives\n",
    "2. Prune old branch\n"
   ]
  },
  {
   "cell_type": "code",
   "execution_count": null,
   "metadata": {},
   "outputs": [],
   "source": [
    "! git branch -d [branch name]"
   ]
  },
  {
   "cell_type": "markdown",
   "metadata": {
    "slideshow": {
     "slide_type": "slide"
    }
   },
   "source": [
    "# Keep trying and explore all the accessibility \n",
    "You are not going to be a git wizard right off the bat. Keep working with it. Search stackoverflow. As you start out keep the https://ndpsoftware.com/git-cheatsheet.html#loc=local_repo; open to remind yourself of your options."
   ]
  },
  {
   "cell_type": "code",
   "execution_count": null,
   "metadata": {
    "slideshow": {
     "slide_type": "slide"
    }
   },
   "outputs": [],
   "source": []
  },
  {
   "cell_type": "code",
   "execution_count": 16,
   "metadata": {
    "slideshow": {
     "slide_type": "notes"
    }
   },
   "outputs": [],
   "source": [
    "! rm -r /Users/gracer/Desktop/git_jiggy"
   ]
  },
  {
   "cell_type": "markdown",
   "metadata": {
    "slideshow": {
     "slide_type": "notes"
    }
   },
   "source": [
    "https://stackoverflow.com/questions/48497696/fast-forward-error-in-github"
   ]
  },
  {
   "cell_type": "code",
   "execution_count": null,
   "metadata": {},
   "outputs": [],
   "source": []
  }
 ],
 "metadata": {
  "celltoolbar": "Slideshow",
  "kernelspec": {
   "display_name": "Python 3",
   "language": "python",
   "name": "python3"
  },
  "language_info": {
   "codemirror_mode": {
    "name": "ipython",
    "version": 3
   },
   "file_extension": ".py",
   "mimetype": "text/x-python",
   "name": "python",
   "nbconvert_exporter": "python",
   "pygments_lexer": "ipython3",
   "version": "3.6.8"
  },
  "rise": {
   "enable_chalkboard": true,
   "height": "100%",
   "scroll": true,
   "width": "100%"
  }
 },
 "nbformat": 4,
 "nbformat_minor": 2
}
