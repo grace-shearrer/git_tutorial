{
 "cells": [
  {
   "cell_type": "markdown",
   "metadata": {
    "slideshow": {
     "slide_type": "slide"
    }
   },
   "source": [
    "# Git 101\n",
    "## *Or why not just save?*"
   ]
  },
  {
   "cell_type": "markdown",
   "metadata": {
    "slideshow": {
     "slide_type": "slide"
    }
   },
   "source": [
    "# Overview\n",
    "* Goal of the class\n",
    "* Why am I learning this?\n",
    "* Git structure"
   ]
  },
  {
   "cell_type": "markdown",
   "metadata": {
    "slideshow": {
     "slide_type": "slide"
    }
   },
   "source": [
    "# Goals of the class"
   ]
  },
  {
   "cell_type": "markdown",
   "metadata": {},
   "source": [
    "* Be comfortable setting up, pushing to, and publishing a repository\n",
    "* Understand the importance of version control\n",
    "* Have a working knowledge of cloning, forking, and merging a repositiory \n",
    "* Introduction to datalad and additional git based functionality "
   ]
  },
  {
   "cell_type": "markdown",
   "metadata": {
    "slideshow": {
     "slide_type": "slide"
    }
   },
   "source": [
    "# Why?"
   ]
  },
  {
   "cell_type": "markdown",
   "metadata": {},
   "source": [
    "## Version control\n",
    "We all have a folder that looks like this:\n",
    "![bad](https://github.com/grace-shearrer/git_tutorial/blob/working/images/bad_struct.png?raw=true)"
   ]
  },
  {
   "cell_type": "markdown",
   "metadata": {},
   "source": [
    "This is confusing and takes up a lot of space. It would be great to just have a log of the changes I made and I could revert to the *version* I want at will."
   ]
  },
  {
   "cell_type": "markdown",
   "metadata": {},
   "source": [
    "### Ah but wait! Google Drive already does this! \n",
    "![google](https://github.com/grace-shearrer/git_tutorial/blob/working/images/drive_ver.png?raw=true)"
   ]
  },
  {
   "cell_type": "markdown",
   "metadata": {},
   "source": [
    "True, Google Drive does come with some native version control.\n",
    "But, it is file by and slow.... It gets worse if you are changing a lot of files at once (say when creating an onset file). \n",
    "Even worse... what if you are collaborating? "
   ]
  },
  {
   "cell_type": "markdown",
   "metadata": {},
   "source": [
    "## Enter Git\n",
    "![git](data:image/svg+xml;base64,PD94bWwgdmVyc2lvbj0iMS4wIiBlbmNvZGluZz0idXRmLTgiPz4KPHN2ZyB4bWxucz0iaHR0cDov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)"
   ]
  },
  {
   "cell_type": "markdown",
   "metadata": {},
   "source": [
    "Git is a distributed version control system for any file type.\n",
    "The goals of git are:\n",
    "1. Speed\n",
    "2. Data integrity \n",
    "3. Support\n",
    "\n",
    "For distributed and non-linear workflows.\n",
    "*AKA: Allowing multiple people to work on the same file without overwriting each other.*"
   ]
  },
  {
   "cell_type": "markdown",
   "metadata": {},
   "source": [
    "## GitHub\n",
    "![github](https://github.com/grace-shearrer/git_tutorial/blob/working/images/GitHub-Mark-120px-plus.png?raw=true)"
   ]
  },
  {
   "cell_type": "markdown",
   "metadata": {},
   "source": [
    "Github builds on the git framework and provides a web interface. Increasingly there are a variety of other functionalities:\n",
    "* bug tracking\n",
    "* feature requests\n",
    "* task management \n",
    "* wikis\n",
    "* websites\n",
    "* document rendering \n",
    "* Atom (source code editor)"
   ]
  },
  {
   "cell_type": "markdown",
   "metadata": {},
   "source": [
    "### This all seems to be more than I need ... \n",
    "However there is more to git and GitHub than just a really fancy way to save.   \n",
    "**Exposure** You worked really hard to create something. Someone else might appreciate using it too!   \n",
    "**Be a package fanperson** So you use a package but you want to make it even better or more specific to your project.   \n",
    "**Collaboration** Science is a team sport. GitHub allows the team to work on the same files simultaneously and then allows for the versions to be 'intelligently' combined.  "
   ]
  },
  {
   "cell_type": "markdown",
   "metadata": {},
   "source": [
    "# Let's Git Started\n",
    "With a lot of git puns  \n",
    "github.com"
   ]
  },
  {
   "cell_type": "markdown",
   "metadata": {},
   "source": [
    "## Tips for making a good start\n",
    "1. Don't use a university email address to setup the account\n",
    " - Some universities end emails post grad\n",
    " - You can put your university email on your profile instead \n",
    "2. Avoid capital letters in the usernames\n",
    "3. Avoid spaces (use - or _ ) \n",
    "4. Use your name as much as possible\n",
    "5. Do you, but I would hesitate anything too edgy ;)"
   ]
  },
  {
   "cell_type": "markdown",
   "metadata": {},
   "source": [
    "## Install Git\n",
    "1. Open up a terminal \n",
    "2. Type: which git"
   ]
  },
  {
   "cell_type": "code",
   "execution_count": 7,
   "metadata": {
    "slideshow": {
     "slide_type": "fragment"
    }
   },
   "outputs": [
    {
     "name": "stdout",
     "output_type": "stream",
     "text": [
      "/usr/bin/git\r\n"
     ]
    }
   ],
   "source": [
    "! which git\n",
    "\n",
    "#Note the ! this is a jupyter notebook magic character that allows me to run ~most~ unix commands"
   ]
  },
  {
   "cell_type": "markdown",
   "metadata": {},
   "source": [
    "## Want to check the version? "
   ]
  },
  {
   "cell_type": "code",
   "execution_count": 5,
   "metadata": {},
   "outputs": [
    {
     "name": "stdout",
     "output_type": "stream",
     "text": [
      "git version 2.20.1 (Apple Git-117)\r\n"
     ]
    }
   ],
   "source": [
    "! git --version"
   ]
  },
  {
   "cell_type": "markdown",
   "metadata": {},
   "source": [
    "## Ahhhh! I don't have git!!!"
   ]
  },
  {
   "cell_type": "markdown",
   "metadata": {},
   "source": [
    "Go to this website (also an excellent reference):\n",
    "    https://happygitwithr.com/install-git.html  \n",
    "Follow instructions for your flavor of computer"
   ]
  },
  {
   "cell_type": "markdown",
   "metadata": {},
   "source": [
    "# Brief set up "
   ]
  },
  {
   "cell_type": "markdown",
   "metadata": {},
   "source": [
    "## On your desktop do the following:\n",
    "1. Make a folder called git_jiggy\n",
    "2. Write a text file that says \"Na na na na na na na nana\""
   ]
  },
  {
   "cell_type": "markdown",
   "metadata": {
    "slideshow": {
     "slide_type": "slide"
    }
   },
   "source": [
    "# Basic GitHub overview"
   ]
  },
  {
   "cell_type": "markdown",
   "metadata": {
    "slideshow": {
     "slide_type": "slide"
    }
   },
   "source": [
    "## Locals Only\n",
    "![local](https://github.com/grace-shearrer/git_tutorial/blob/working/images/git_local.png?raw=true)\n",
    "image from: https://juristr.com/blog/2013/04/git-explained/"
   ]
  },
  {
   "cell_type": "markdown",
   "metadata": {},
   "source": [
    "### Working directory\n",
    "This is on your **LOCAL COMPUTER**  \n",
    "You can have a variety of files of every flavor and size"
   ]
  },
  {
   "cell_type": "markdown",
   "metadata": {},
   "source": [
    "### Run the following"
   ]
  },
  {
   "cell_type": "code",
   "execution_count": 10,
   "metadata": {},
   "outputs": [
    {
     "name": "stdout",
     "output_type": "stream",
     "text": [
      "README.md         git_lecture.ipynb \u001b[34mimages\u001b[m\u001b[m\r\n"
     ]
    }
   ],
   "source": [
    "! ls\n",
    "# Looks normal enough"
   ]
  },
  {
   "cell_type": "code",
   "execution_count": 11,
   "metadata": {},
   "outputs": [
    {
     "name": "stdout",
     "output_type": "stream",
     "text": [
      "\u001b[34m.\u001b[m\u001b[m                  \u001b[34m.git\u001b[m\u001b[m               README.md\r\n",
      "\u001b[34m..\u001b[m\u001b[m                 .gitignore         git_lecture.ipynb\r\n",
      ".DS_Store          \u001b[34m.ipynb_checkpoints\u001b[m\u001b[m \u001b[34mimages\u001b[m\u001b[m\r\n"
     ]
    }
   ],
   "source": [
    "! ls -a\n",
    "# WHOA, who put these .git files here???"
   ]
  },
  {
   "cell_type": "markdown",
   "metadata": {},
   "source": [
    "### Staging area"
   ]
  },
  {
   "cell_type": "markdown",
   "metadata": {},
   "source": [
    "### git repository "
   ]
  },
  {
   "cell_type": "code",
   "execution_count": null,
   "metadata": {},
   "outputs": [],
   "source": []
  }
 ],
 "metadata": {
  "celltoolbar": "Slideshow",
  "kernelspec": {
   "display_name": "Python 3",
   "language": "python",
   "name": "python3"
  },
  "language_info": {
   "codemirror_mode": {
    "name": "ipython",
    "version": 3
   },
   "file_extension": ".py",
   "mimetype": "text/x-python",
   "name": "python",
   "nbconvert_exporter": "python",
   "pygments_lexer": "ipython3",
   "version": "3.6.5"
  }
 },
 "nbformat": 4,
 "nbformat_minor": 2
}
