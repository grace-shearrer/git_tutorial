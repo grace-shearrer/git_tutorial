{
 "cells": [
  {
   "cell_type": "markdown",
   "metadata": {
    "slideshow": {
     "slide_type": "slide"
    }
   },
   "source": [
    "# Git 101\n",
    "## *Or why not just save?*"
   ]
  },
  {
   "cell_type": "markdown",
   "metadata": {
    "slideshow": {
     "slide_type": "slide"
    }
   },
   "source": [
    "# Overview\n",
    "* Goal of the class\n",
    "* Why am I learning this?\n",
    "* Git structure"
   ]
  },
  {
   "cell_type": "markdown",
   "metadata": {
    "slideshow": {
     "slide_type": "slide"
    }
   },
   "source": [
    "# Goals of the class"
   ]
  },
  {
   "cell_type": "markdown",
   "metadata": {},
   "source": [
    "* Be comfortable setting up, pushing to, and publishing a repository\n",
    "* Understand the importance of version control\n",
    "* Have a working knowledge of cloning, forking, and merging a repositiory \n",
    "* Introduction to datalad and additional git based functionality "
   ]
  },
  {
   "cell_type": "markdown",
   "metadata": {
    "slideshow": {
     "slide_type": "slide"
    }
   },
   "source": [
    "# Why?"
   ]
  },
  {
   "cell_type": "markdown",
   "metadata": {},
   "source": [
    "## Version control\n",
    "We all have a folder that looks like this:\n",
    "![bad](https://github.com/grace-shearrer/git_tutorial/blob/working/images/bad_struct.png?raw=true)"
   ]
  },
  {
   "cell_type": "markdown",
   "metadata": {},
   "source": [
    "This is confusing and takes up a lot of space. It would be great to just have a log of the changes I made and I could revert to the *version* I want at will."
   ]
  },
  {
   "cell_type": "markdown",
   "metadata": {},
   "source": [
    "### Ah but wait! Google Drive already does this! "
   ]
  },
  {
   "cell_type": "markdown",
   "metadata": {},
   "source": [
    "True, Google Drive does come with some native version control.\n",
    "But, it is file by and slow.... It gets worse if you are changing a lot of files at once (say when creating an onset file). \n",
    "Even worse... what if you are collaborating? "
   ]
  },
  {
   "cell_type": "markdown",
   "metadata": {},
   "source": [
    "## Enter Git\n",
    "Git is a distributed version control system for any file type.\n",
    "\n",
    "The goals of git are:\n",
    "1. Speed\n",
    "2. Data integrity \n",
    "3. Support\n",
    "\n",
    "For distributed and non-linear workflows.\n",
    "*AKA: Allowing multiple people to work on the same file without overwriting each other.*"
   ]
  },
  {
   "cell_type": "markdown",
   "metadata": {},
   "source": [
    "## GitHub\n",
    "Github builds on the git framework and provides a web interface. Increasingly there are a variety of other functionalities:\n",
    "* bug tracking\n",
    "* feature requests\n",
    "* task management \n",
    "* wikis\n",
    "* websites\n",
    "* document rendering \n",
    "* Atom (source code editor)"
   ]
  },
  {
   "cell_type": "markdown",
   "metadata": {},
   "source": [
    "### This all seems to be more than I need ... \n",
    "However there is more to git and GitHub than just a really fancy way to save.   \n",
    "**Exposure** You worked really hard to create something. Someone else might appreciate using it too!   \n",
    "**Be a package fanperson** So you use a package but you want to make it even better or more specific to your project.   \n",
    "**Collaboration** Science is a team sport. GitHub allows the team to work on the same files simultaneously and then allows for the versions to be 'intelligently' combined.  "
   ]
  },
  {
   "cell_type": "markdown",
   "metadata": {},
   "source": [
    "# Let's Git Started\n",
    "With a lot of git puns  \n",
    "github.com"
   ]
  },
  {
   "cell_type": "markdown",
   "metadata": {},
   "source": [
    "## Tips for making a good start\n",
    "1. Don't use a university email address to setup the account\n",
    " - Some universities end emails post grad\n",
    " - You can put your university email on your profile instead \n",
    "2. Avoid capital letters in the usernames\n",
    "3. Avoid spaces (use - or _ ) \n",
    "4. Use your name as much as possible\n",
    "5. Do you, but I would hesitate anything too edgy ;)"
   ]
  },
  {
   "cell_type": "markdown",
   "metadata": {},
   "source": [
    "## Install Git\n",
    "1. Open up a terminal \n",
    "2. Type: which git"
   ]
  },
  {
   "cell_type": "code",
   "execution_count": 4,
   "metadata": {
    "slideshow": {
     "slide_type": "fragment"
    }
   },
   "outputs": [
    {
     "name": "stdout",
     "output_type": "stream",
     "text": [
      "/usr/bin/git\r\n"
     ]
    }
   ],
   "source": [
    "! which git"
   ]
  },
  {
   "cell_type": "markdown",
   "metadata": {},
   "source": [
    "## Want to check the version? "
   ]
  },
  {
   "cell_type": "code",
   "execution_count": 5,
   "metadata": {},
   "outputs": [
    {
     "name": "stdout",
     "output_type": "stream",
     "text": [
      "git version 2.20.1 (Apple Git-117)\r\n"
     ]
    }
   ],
   "source": [
    "! git --version"
   ]
  },
  {
   "cell_type": "markdown",
   "metadata": {},
   "source": [
    "## Ahhhh! I don't have git!!!"
   ]
  },
  {
   "cell_type": "markdown",
   "metadata": {},
   "source": [
    "Go to this website (also an excellent reference):\n",
    "    https://happygitwithr.com/install-git.html  \n",
    "Follow instructions for your flavor of computer"
   ]
  },
  {
   "cell_type": "markdown",
   "metadata": {
    "slideshow": {
     "slide_type": "slide"
    }
   },
   "source": [
    "# Basic GitHub overview"
   ]
  },
  {
   "cell_type": "code",
   "execution_count": null,
   "metadata": {
    "slideshow": {
     "slide_type": "slide"
    }
   },
   "outputs": [],
   "source": []
  }
 ],
 "metadata": {
  "celltoolbar": "Slideshow",
  "kernelspec": {
   "display_name": "Python 3",
   "language": "python",
   "name": "python3"
  },
  "language_info": {
   "codemirror_mode": {
    "name": "ipython",
    "version": 3
   },
   "file_extension": ".py",
   "mimetype": "text/x-python",
   "name": "python",
   "nbconvert_exporter": "python",
   "pygments_lexer": "ipython3",
   "version": "3.6.5"
  }
 },
 "nbformat": 4,
 "nbformat_minor": 2
}
